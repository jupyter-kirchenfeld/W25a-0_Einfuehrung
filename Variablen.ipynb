{
 "cells": [
  {
   "cell_type": "markdown",
   "id": "adabc9f8",
   "metadata": {},
   "source": [
    "Before you turn this problem in, make sure everything runs as expected. First, **restart the kernel** (in the menubar, select Kernel$\\rightarrow$Restart) and then **run all cells** (in the menubar, select Cell$\\rightarrow$Run All).\n",
    "\n",
    "Make sure you fill in any place that says `YOUR CODE HERE` or \"YOUR ANSWER HERE\", as well as your name and collaborators below:"
   ]
  },
  {
   "cell_type": "code",
   "execution_count": null,
   "id": "5a3f9c1f",
   "metadata": {},
   "outputs": [],
   "source": [
    "NAME = \"\"\n",
    "COLLABORATORS = \"\""
   ]
  },
  {
   "cell_type": "markdown",
   "id": "7ffe663a",
   "metadata": {},
   "source": [
    "---"
   ]
  },
  {
   "cell_type": "markdown",
   "id": "c40dfe4d",
   "metadata": {},
   "source": [
    "# Variablen\n",
    "\n",
    "Variablen speichern Werte, während das Programm ausgeführt wird. \n",
    "\n",
    "## Namen von Variablen\n",
    "\n",
    "Der Name einer Variable darf nicht mit einer Zahl beginnen, und keine Sonderzeichen ausser dem _ (Unterstrich) enthalten.\n",
    "\n",
    "**Wichtige Konventionen:**\n",
    "\n",
    "- Variablen schreibt man immer mit **Kleinbuchstaben**.\n",
    "- Verwende stets **aussagekräftige Namen** für Variablen und nicht nur einzelne Buchstaben wie m oder q.\n",
    "- Besteht ein Name aus mehreren Worten so ersetzen wir jedes Leerzeichen `\" \"` durch ein Underscore `\"_\"`\n",
    "\n",
    "### Beispiel\n",
    "\n",
    "Will ich eine Variable für meine Lieblingsfarbe erstellen so würde ich diese unseren Konventionen entsprechend `meine_lieblingsfarbe` bennen.\n",
    "\n"
   ]
  },
  {
   "cell_type": "markdown",
   "id": "ac6eda60",
   "metadata": {},
   "source": [
    "### Aufgabe \n",
    "\n",
    "\n",
    "Die letzte Konvention wird [Snake case](https://en.wikipedia.org/wiki/Snake_case) gennant. \n",
    "\n",
    "Finde mittels dem verlinkten Wikipedia Artikel eine weitere Namenskonvention und beschreibe die Unterschiede zu Snake case."
   ]
  },
  {
   "cell_type": "markdown",
   "id": "ba979a68",
   "metadata": {
    "deletable": false,
    "nbgrader": {
     "cell_type": "markdown",
     "checksum": "e7e14248852f79899f9d0cff10ff3afb",
     "grade": true,
     "grade_id": "cell-e5cc0095899da204",
     "locked": false,
     "points": 0,
     "schema_version": 3,
     "solution": true,
     "task": false
    }
   },
   "source": [
    "YOUR ANSWER HERE"
   ]
  },
  {
   "cell_type": "markdown",
   "id": "76709674",
   "metadata": {},
   "source": [
    "\n",
    "\n",
    "## Zuweisung\n",
    "\n",
    "Die Zuweisung erfolgt stets von rechts nach links. D.h. der Name der Variable, in der ein bestimmter Wert gespeichert wird, muss immer auf der linken Seite des Gleichheitszeichens stehen, während der Wert, die Formel oder anderweitige Berechnungen für des Wertes rechts davon stehen.\n",
    "\n",
    "Das Gleichheitszeichen ist der Zuweisungsoperator, d.h. es bedeutet nicht wie in der Mathematik Gleichheit.\n",
    "\n",
    "Um zum Beispiel der Variable `meine_lieblingszahl` den Wert `7` zuzuweisen schreiben wir\n"
   ]
  },
  {
   "cell_type": "code",
   "execution_count": null,
   "id": "49d5e110",
   "metadata": {},
   "outputs": [],
   "source": [
    "meine_lieblingszahl = 7"
   ]
  },
  {
   "cell_type": "markdown",
   "id": "9f449417",
   "metadata": {},
   "source": [
    "### Aufgabe\n",
    "\n",
    "Bei den Variablen in der folgenden Zelle wurden einige der Konventionen nicht eingehalten. Korrigiere die Variablennamen. \n",
    "\n",
    "**Tipp:** Der Quotient ist das Ergebnis einer Division, wenn man die eine Größe (Dividend oder Zähler) durch die andere (Divisor oder Nenner) teilt."
   ]
  },
  {
   "cell_type": "code",
   "execution_count": null,
   "id": "1385cd1f",
   "metadata": {},
   "outputs": [],
   "source": [
    "Zaehler = 4\n",
    "nEnnEr = 2\n",
    "\n",
    "q = Zaehler / nEnner"
   ]
  },
  {
   "cell_type": "markdown",
   "id": "4c6af686",
   "metadata": {},
   "source": [
    "# Ausgabe\n",
    "\n",
    "## Textausgabe\n",
    "\n",
    "Mit Hilfe der Funktion print() kann Text ausgegeben werden."
   ]
  },
  {
   "cell_type": "code",
   "execution_count": null,
   "id": "43ee7a79",
   "metadata": {},
   "outputs": [],
   "source": [
    "print(\"Hallo Welt\")"
   ]
  },
  {
   "cell_type": "markdown",
   "id": "59f71309",
   "metadata": {},
   "source": [
    "## Inhalt von Variablen ausgeben\n",
    "\n",
    "Will man den Inhalt einer Variable ausgeben, so darf die Variable nicht in Anführungszeichen geschrieben werden:"
   ]
  },
  {
   "cell_type": "code",
   "execution_count": null,
   "id": "5a0f297a",
   "metadata": {},
   "outputs": [],
   "source": [
    "text = \"Hallo Welt\"\n",
    "print(text)"
   ]
  },
  {
   "cell_type": "markdown",
   "id": "4f5e578e",
   "metadata": {},
   "source": [
    "# Eingabe\n",
    "\n",
    "## Texteingabe\n",
    "\n",
    "Benutzereingaben können mit der Funktion input() gelesen und in einer Variablen gespeichert werden. Wiederum ist wichtig, dass die Variable links steht.\n",
    "\n",
    "\n",
    "### Beispiel:"
   ]
  },
  {
   "cell_type": "code",
   "execution_count": null,
   "id": "2c11db33",
   "metadata": {},
   "outputs": [],
   "source": [
    "print(\"Wie lautet dein Name?\")\n",
    "name = input()\n",
    "print(\"Hallo \" + name)"
   ]
  },
  {
   "cell_type": "markdown",
   "id": "18af8a97",
   "metadata": {},
   "source": [
    "## Zahlen einlesen\n",
    "\n",
    "Die Benutzereingabe wird stets als Zeichenfolge eingelesen (schliesslich können beliebige Zeichen enthalten sein). Ist man sicher, dass eine Eingabe eine Zahl enthält, so kann diese mit der Funktion int(zeichenfolge) in eine Zahl umgewandelt werden.\n",
    "\n",
    "### Beispiel:"
   ]
  },
  {
   "cell_type": "code",
   "execution_count": null,
   "id": "630312c4",
   "metadata": {},
   "outputs": [],
   "source": [
    "print(\"Gib eine Zahl ein: \")\n",
    "zahl = int(input())\n",
    "neue_zahl = zahl + 1\n",
    "print(\"Die nächste Zahl lautet: \" + str(neue_zahl))"
   ]
  },
  {
   "cell_type": "markdown",
   "id": "a855ca9c",
   "metadata": {},
   "source": [
    "### Aufgabe\n",
    "\n",
    "Lies zwei Zahlen mittels `input()` ein und gib via `print()` das Ergebnis aus.\n",
    "\n",
    "**Tipp:** Zwei Zahlen lassen sich mittels `erste_zahl + zweite_zahl` addieren"
   ]
  },
  {
   "cell_type": "code",
   "execution_count": null,
   "id": "a09cc0d4",
   "metadata": {
    "deletable": false,
    "nbgrader": {
     "cell_type": "code",
     "checksum": "08adf6b7d26a4dffb37f129cc0cfd8e3",
     "grade": true,
     "grade_id": "cell-0d3471141e09a21a",
     "locked": false,
     "points": 0,
     "schema_version": 3,
     "solution": true,
     "task": false
    }
   },
   "outputs": [],
   "source": [
    "# YOUR CODE HERE\n",
    "raise NotImplementedError()"
   ]
  }
 ],
 "metadata": {
  "interpreter": {
   "hash": "1f249ec925ce4e150f1f00585c0a724a833d5f2a7ba7da4c93b858ce16dfa983"
  },
  "kernelspec": {
   "display_name": "Python 3",
   "language": "python",
   "name": "python3"
  },
  "language_info": {
   "codemirror_mode": {
    "name": "ipython",
    "version": 3
   },
   "file_extension": ".py",
   "mimetype": "text/x-python",
   "name": "python",
   "nbconvert_exporter": "python",
   "pygments_lexer": "ipython3",
   "version": "3.9.7"
  },
  "toc-autonumbering": true,
  "toc-showcode": false
 },
 "nbformat": 4,
 "nbformat_minor": 5
}
