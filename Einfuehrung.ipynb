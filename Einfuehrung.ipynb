{
 "cells": [
  {
   "cell_type": "markdown",
   "id": "706f9c44",
   "metadata": {},
   "source": [
    "Before you turn this problem in, make sure everything runs as expected. First, **restart the kernel** (in the menubar, select Kernel$\\rightarrow$Restart) and then **run all cells** (in the menubar, select Cell$\\rightarrow$Run All).\n",
    "\n",
    "Make sure you fill in any place that says `YOUR CODE HERE` or \"YOUR ANSWER HERE\", as well as your name and collaborators below:"
   ]
  },
  {
   "cell_type": "code",
   "execution_count": null,
   "id": "9af7fc83",
   "metadata": {},
   "outputs": [],
   "source": [
    "NAME = \"\"\n",
    "COLLABORATORS = \"\""
   ]
  },
  {
   "cell_type": "markdown",
   "id": "49b0613c",
   "metadata": {},
   "source": [
    "---"
   ]
  },
  {
   "cell_type": "markdown",
   "id": "c40dfe4d",
   "metadata": {},
   "source": [
    "\n",
    "\n",
    "\n",
    "# Einführung in Jupyter Notebooks\n",
    "\n",
    "Das Grundprinzip der sogenannten Notebooks ist, dass sich in ihnen verschiedene Inhalte wie Text, Bilder und Videos mit ausführbarem und manipulierbarem Quellcode kombinieren lassen. Das Notebook ist in sogenannten **Zellen** aufgebaut. Eine Zelle beinhaltet entweder *Inhalt* oder *Quellcode*.\n",
    "\n",
    "Inhaltszellen benutzen [Markdown](https://de.wikipedia.org/wiki/Markdown) als einfache Möglichkeit, das Layout des Textes anzupassen. Quellcode Zellen beinhalten in unserem Fall Python Code, aber auch JavaScript ist möglich. Der Name Jupyter rührt daher, dass drei Programmiersprachen fundamental unterstützt werden: **J**ulia, **Pyt**hon und **R**.\n",
    "\n",
    "Die Notebooks sind so aufgebaut, dass neue Programmierkonzepte sowohl per Text/Bild/Video eingeführt werden, aber ganz schnell auch mit Code, der direkt ausgeführt werden kann - und was für das Verständnis besonders wichtig ist, auch sofort angepasst werden kann. Damit kann das von uns präferierte **PRIMM** Lernmodell besonders gut umgesetzt werden:\n",
    "\n",
    "## Das PRIMM Lernmodell\n",
    "\n",
    "1. **P**redict: Versuche vorherzusagen, was ein bestimmter Quellcode ausführen wird.\n",
    "2. **R**un: Führe den Quelltext aus.\n",
    "3. **I**nvestigate: Versuche die einzelnen Elemente und deren Auswirkung zu verstehen.\n",
    "4. **M**odify: Passe den Code an und studiere die Auswirkungen.\n",
    "5. **M**ake: Schreibe deinen eigenen Code.\n",
    "\n",
    "Dein Lernerfolg ist umso grösser, wenn du Zellen mit Quellcode **erst ausführst, nachdem** du darüber nachgedacht hast, was passieren wird (Predict). Passe anschliessend den Quellcode so an verschiedenen Stellen an, damit du gut verstehst, was die einzelnen Elemente bewirken.\n",
    "\n",
    "## Navigation durch ein Jupyter Notebook\n",
    "\n",
    "Einzelne Zellen lassen sich per Einfachklick auf die Zelle selektieren. Dies wird durch einen blauen Balken links von der Zelle angezeigt. Code Zellen sind danach sofort editierbar (Cursor ist am Ort, wo geklickt wurde). Um Markdown Inhaltszellen zu bearbeiten, braucht es einen Doppelklick. Um die Zellen auszuführen (Code: Programm wird ausgeführt, Inhalt: Markdown wird gerendert) kann man jederzeit während der Bearbeitung einer Zelle Shift+Enter drücken. Damit wird auch automatisch die nächste Zelle selektiert (wenn man nur die aktuelle Zelle ausführen will ohne die nächste zu selektieren, kann man Ctrl+Enter drücken).\n",
    "\n",
    "Aus programmiertechnischer Sicht ist es wichtig zu verstehen, dass alle Code Zellen eines Notebooks zusammenhängen. Wenn also in irgendeiner Zelle eine Variable definiert wurde, kann in einer anderen Zelle darauf zugegriffen werden. Es spielt dabei keine Rolle, ob die entsprechende Zelle weiter oben oder unten im Notebook auftaucht, allein die Reihenfolge der Ausführung ist entscheidend. Diese Ausführungsreihenfolge wird mit einer Nummer links von der Zelle in eckigen Klammern aufgeführt, sobald die Zelle ausgeführt wurde.\n",
    "\n",
    "Um das Inhaltsverzeichnis eines Notebooks zu sehen, muss man auf der linken Seite das Symbol mit den drei Punkten und Strichen klicken, dann öffnet sich ein Inhaltsverzeichnis. Man kann dieses Inhaltsverzeichnis und auch das Dokument selbst dynamisch nummerieren lassen, wenn man auf den Knopf mit den Zahlen 1 bis 3 und den Strichen drückt.\n",
    "\n",
    "### Aufgabe \n",
    "\n",
    "Öffne nun das Notebook [Variablen.ipynb](./Variablen.ipynb)"
   ]
  }
 ],
 "metadata": {
  "interpreter": {
   "hash": "1f249ec925ce4e150f1f00585c0a724a833d5f2a7ba7da4c93b858ce16dfa983"
  },
  "kernelspec": {
   "display_name": "Python 3",
   "language": "python",
   "name": "python3"
  },
  "language_info": {
   "codemirror_mode": {
    "name": "ipython",
    "version": 3
   },
   "file_extension": ".py",
   "mimetype": "text/x-python",
   "name": "python",
   "nbconvert_exporter": "python",
   "pygments_lexer": "ipython3",
   "version": "3.9.7"
  },
  "toc-autonumbering": true,
  "toc-showcode": false
 },
 "nbformat": 4,
 "nbformat_minor": 5
}
